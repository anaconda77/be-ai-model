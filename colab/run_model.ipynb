{
 "cells": [
  {
   "cell_type": "code",
   "execution_count": 18,
   "metadata": {
    "executionInfo": {
     "elapsed": 6,
     "status": "ok",
     "timestamp": 1749711647827,
     "user": {
      "displayName": "신성민",
      "userId": "11183099801659083291"
     },
     "user_tz": -540
    },
    "id": "9EOy2AZxmd7o"
   },
   "outputs": [],
   "source": [
    "# !pip install transformers\n",
    "# !pip install -q torch torchvision torchaudio\n",
    "# !pip install supabase\n",
    "# !pip install dotenv\n",
    "# !pip install finnhub-python"
   ]
  },
  {
   "cell_type": "code",
   "execution_count": null,
   "metadata": {
    "colab": {
     "base_uri": "https://localhost:8080/"
    },
    "executionInfo": {
     "elapsed": 1314,
     "status": "ok",
     "timestamp": 1749711649147,
     "user": {
      "displayName": "신성민",
      "userId": "11183099801659083291"
     },
     "user_tz": -540
    },
    "id": "CwxQbcCBjDbs",
    "outputId": "01a92af6-9d0f-46f2-8462-fcc9b9ccc4ff"
   },
   "outputs": [
    {
     "name": "stdout",
     "output_type": "stream",
     "text": [
      "Drive already mounted at /gdrive; to attempt to forcibly remount, call drive.mount(\"/gdrive\", force_remount=True).\n"
     ]
    }
   ],
   "source": [
    "from google.colab import files,drive\n",
    "drive.mount('/gdrive')"
   ]
  },
  {
   "cell_type": "code",
   "execution_count": null,
   "metadata": {
    "executionInfo": {
     "elapsed": 1,
     "status": "ok",
     "timestamp": 1749711649151,
     "user": {
      "displayName": "신성민",
      "userId": "11183099801659083291"
     },
     "user_tz": -540
    },
    "id": "64RiQaYnjTgF"
   },
   "outputs": [],
   "source": [
    "import sys\n",
    "sys.path.append('/gdrive/MyDrive/finn-project/be-ai-model')\n",
    "\n",
    "from source.input_processing import get_csv_data, merge_data\n",
    "from source.sentiment_model import analyze_sentiment_with_progress, add_integer_column, sums_sentiment_score_for_7_days, update_sentiment_score_in_db\n",
    "from source.lstm_model import get_scale_data, get_scale_data_with_fit, create_sequences_for_train, compile_model, train_model, predict_prices, create_sequences_for_prod\n",
    "from source.output_processing import compare_prices_with_graph\n",
    "from source.market_capitalization import get_capitalization"
   ]
  },
  {
   "cell_type": "code",
   "execution_count": null,
   "metadata": {
    "executionInfo": {
     "elapsed": 47,
     "status": "ok",
     "timestamp": 1749711649199,
     "user": {
      "displayName": "신성민",
      "userId": "11183099801659083291"
     },
     "user_tz": -540
    },
    "id": "jy5omr7fmb7Q"
   },
   "outputs": [],
   "source": [
    "import os\n",
    "import numpy as np\n",
    "from datetime import datetime, timedelta\n",
    "import pandas as pd\n",
    "from supabase import create_client, Client\n",
    "import finnhub\n",
    "from dotenv import load_dotenv\n",
    "\n",
    "dotenv_path = 'gdrive/MyDrive/finn-project/.env'\n",
    "load_dotenv(dotenv_path=dotenv_path)\n",
    "\n",
    "supabase_url = os.environ.get(\"SUPABASE_URL\")\n",
    "supabase_key = os.environ.get(\"SUPABASE_API_KEY\")\n",
    "finnhub_api_key = os.environ.get(\"FINNHUB_API_KEY\")\n",
    "\n",
    "SEQUENCE_LENGTH = 7\n",
    "SENTIMENT_WINDOW_DAYS = 7\n",
    "FETCH_DAYS = 13\n",
    "\n",
    "supabase: Client = create_client(supabase_url, supabase_key)\n",
    "finnhub_client = finnhub.Client(api_key=finnhub_api_key)"
   ]
  },
  {
   "cell_type": "code",
   "execution_count": 20,
   "metadata": {
    "executionInfo": {
     "elapsed": 925,
     "status": "ok",
     "timestamp": 1749711650131,
     "user": {
      "displayName": "신성민",
      "userId": "11183099801659083291"
     },
     "user_tz": -540
    },
    "id": "PAOLm0m9n-0V"
   },
   "outputs": [],
   "source": [
    "# TSLA에 관한 모델만 1개만 생성되어있으므로, db에서 테슬라에 관한 주가/뉴스 데이터만 가져온다.\n",
    "stock_response = supabase.table('stocks').select('id,stock_code,company_name').eq('stock_code', 'TSLA').single().execute()\n",
    "stock_id = stock_response.data['id']\n",
    "stock_code = stock_response.data['stock_code']\n",
    "company_name = stock_response.data['company_name']"
   ]
  },
  {
   "cell_type": "code",
   "execution_count": 5,
   "metadata": {
    "executionInfo": {
     "elapsed": 8,
     "status": "ok",
     "timestamp": 1749711650141,
     "user": {
      "displayName": "신성민",
      "userId": "11183099801659083291"
     },
     "user_tz": -540
    },
    "id": "-a7f1II5q4zI"
   },
   "outputs": [],
   "source": [
    "def get_price_data_from_db(stock_id):\n",
    "  prices_latest_date_response = supabase.table('stock_prices').select('price_date') \\\n",
    "          .eq('stock_id', stock_id) \\\n",
    "          .order('price_date', desc=True) \\\n",
    "          .limit(1) \\\n",
    "          .single() \\\n",
    "          .execute()\n",
    "\n",
    "  if not prices_latest_date_response.data:\n",
    "      print(f\"🚨 '{stock_id}'에 대한 최근의 주가 데이터가 DB에 없습니다.\")\n",
    "\n",
    "  prices_latest_date = prices_latest_date_response.data['price_date']\n",
    "\n",
    "  prices_response = supabase.table('stock_prices').select('*') \\\n",
    "          .eq('stock_id', stock_id) \\\n",
    "          .lte('price_date', prices_latest_date) \\\n",
    "          .order('price_date', desc=True) \\\n",
    "          .limit(FETCH_DAYS) \\\n",
    "          .execute()\n",
    "\n",
    "  return prices_response.data"
   ]
  },
  {
   "cell_type": "code",
   "execution_count": 6,
   "metadata": {
    "executionInfo": {
     "elapsed": 3,
     "status": "ok",
     "timestamp": 1749711650143,
     "user": {
      "displayName": "신성민",
      "userId": "11183099801659083291"
     },
     "user_tz": -540
    },
    "id": "gcw6x2PBrqmZ"
   },
   "outputs": [],
   "source": [
    "def get_news_data_from_db(start_date, end_date, stock_id):\n",
    "\n",
    "  news_response = supabase.table('news').select('*').eq('stock_id', stock_id) \\\n",
    "  .gte('created_date', start_date.strftime('%Y-%m-%d')) \\\n",
    "  .lte('created_date', end_date.strftime('%Y-%m-%d')) \\\n",
    "  .execute()\n",
    "\n",
    "  if not news_response.data:\n",
    "      print(f\"🚨 '{stock_id}'에 대한 최근의 뉴스 데이터가 DB에 없습니다.\")\n",
    "\n",
    "  return news_response.data"
   ]
  },
  {
   "cell_type": "code",
   "execution_count": null,
   "metadata": {
    "executionInfo": {
     "elapsed": 3,
     "status": "ok",
     "timestamp": 1749711653224,
     "user": {
      "displayName": "신성민",
      "userId": "11183099801659083291"
     },
     "user_tz": -540
    },
    "id": "qzK7dqgzje3P"
   },
   "outputs": [],
   "source": [
    "from tensorflow.keras.models import load_model\n",
    "import pickle\n",
    "\n",
    "def get_existing_model():\n",
    "  load_path = '/gdrive/MyDrive/finn-project/be-ai-model/models/tsla_finn_model.keras'\n",
    "  return load_model(load_path)\n",
    "\n",
    "def get_existing_scaler():\n",
    "  load_path = '/gdrive/MyDrive/finn-project/be-ai-model/models/tsla_finn_scaler.pkl'\n",
    "  with open(load_path, 'rb') as f:\n",
    "      scaler = pickle.load(f)\n",
    "  return scaler"
   ]
  },
  {
   "cell_type": "code",
   "execution_count": 75,
   "metadata": {},
   "outputs": [],
   "source": [
    "def get_change_rate(prev_price, today_price):\n",
    "    change_rate = ((today_price - prev_price) / prev_price) * 100\n",
    "    return change_rate.round(2)\n",
    "\n",
    "def get_closely_prev_close_price(df):\n",
    "    # 2. 'close_price'가 NaN(비어있지 않은)이 아닌 행만 필터링합니다.\n",
    "    valid_data_df = df.dropna(subset=['close_price'])\n",
    "\n",
    "    # 3. 인덱스(date)를 기준으로 내림차순 정렬하여 가장 최신 데이터가 맨 위로 오게 합니다.\n",
    "    sorted_df = valid_data_df.sort_index(ascending=False)\n",
    "\n",
    "    latest_valid_row = sorted_df.iloc[0]\n",
    "    \n",
    "    # 인덱스가 날짜이므로, .name 속성으로 날짜를 가져옵니다.\n",
    "    latest_date = latest_valid_row.name.strftime('%Y-%m-%d')\n",
    "    latest_close_price = latest_valid_row['close_price']\n",
    "\n",
    "    \n",
    "    return latest_close_price\n",
    "\n"
   ]
  },
  {
   "cell_type": "code",
   "execution_count": 83,
   "metadata": {
    "executionInfo": {
     "elapsed": 10397,
     "status": "aborted",
     "timestamp": 1749711658015,
     "user": {
      "displayName": "신성민",
      "userId": "11183099801659083291"
     },
     "user_tz": -540
    },
    "id": "DUc4n6pXRcXw"
   },
   "outputs": [],
   "source": [
    "# Predictions row를 만들고, db에 저장(시가총액 정보도 호출하여 저장)\n",
    "def save_predictions_in_db(stock_id, stock_code, company_name, prediction_price, prediction_date, change_rate, capitalization):\n",
    "    try :\n",
    "        response = supabase.table('predictions') \\\n",
    "        .upsert({\"stock_id\" : stock_id, \"prediction_date\": prediction_date, \"stock_code\" : stock_code,\n",
    "                \"company_name\" : company_name, \"prediction_price\" : prediction_price, \"change_rate\" : change_rate,\n",
    "                \"capitalization\" : capitalization}) \\\n",
    "        .execute()\n",
    "        \n",
    "        if hasattr(response, 'error') and response.error is not None:\n",
    "                print(f\"🚨 DB 업데이트 중 에러가 발생했습니다: {response.error}\")\n",
    "        else:\n",
    "            print(\"✅ DB 업데이트가 성공적으로 완료되었습니다.\")\n",
    "    except Exception as e:\n",
    "        print(f\"🚨 DB 업데이트 중 예외 발생: {e}\")"
   ]
  },
  {
   "cell_type": "code",
   "execution_count": 7,
   "metadata": {
    "executionInfo": {
     "elapsed": 3075,
     "status": "ok",
     "timestamp": 1749711653223,
     "user": {
      "displayName": "신성민",
      "userId": "11183099801659083291"
     },
     "user_tz": -540
    },
    "id": "5fm6Um4DrF0v"
   },
   "outputs": [],
   "source": [
    "prices_response = get_price_data_from_db(stock_id)\n",
    "stock_prices_df = pd.DataFrame(prices_response)\n",
    "stock_prices_df = stock_prices_df.rename(columns={'price_date':'date', 'id' : 'stock_price_id'})\n",
    "start_date = pd.to_datetime(stock_prices_df['date']).min()\n",
    "end_date = pd.to_datetime(stock_prices_df['date']).max()\n",
    "\n",
    "news_response = get_news_data_from_db(start_date, end_date, stock_id)\n",
    "news_df = pd.DataFrame(news_response)\n",
    "news_df = news_df.rename(columns={'created_date':'date', 'id' : 'news_id'})"
   ]
  },
  {
   "cell_type": "code",
   "execution_count": 10,
   "metadata": {
    "executionInfo": {
     "elapsed": 43,
     "status": "ok",
     "timestamp": 1749711653268,
     "user": {
      "displayName": "신성민",
      "userId": "11183099801659083291"
     },
     "user_tz": -540
    },
    "id": "kxhSPjJ1IzLZ"
   },
   "outputs": [
    {
     "name": "stderr",
     "output_type": "stream",
     "text": [
      "2025-06-12 16:34:37.221192: I metal_plugin/src/device/metal_device.cc:1154] Metal device set to: Apple M4\n",
      "2025-06-12 16:34:37.221230: I metal_plugin/src/device/metal_device.cc:296] systemMemory: 32.00 GB\n",
      "2025-06-12 16:34:37.221235: I metal_plugin/src/device/metal_device.cc:313] maxCacheSize: 10.67 GB\n",
      "2025-06-12 16:34:37.221280: I tensorflow/core/common_runtime/pluggable_device/pluggable_device_factory.cc:305] Could not identify NUMA node of platform GPU ID 0, defaulting to 0. Your kernel may not have been built with NUMA support.\n",
      "2025-06-12 16:34:37.221294: I tensorflow/core/common_runtime/pluggable_device/pluggable_device_factory.cc:271] Created TensorFlow device (/job:localhost/replica:0/task:0/device:GPU:0 with 0 MB memory) -> physical PluggableDevice (device: 0, name: METAL, pci bus id: <undefined>)\n",
      "/Users/conda/Downloads/finn-project/be-ai-model/.venv/lib/python3.11/site-packages/sklearn/base.py:440: InconsistentVersionWarning: Trying to unpickle estimator MinMaxScaler from version 1.6.1 when using version 1.7.0. This might lead to breaking code or invalid results. Use at your own risk. For more info please refer to:\n",
      "https://scikit-learn.org/stable/model_persistence.html#security-maintainability-limitations\n",
      "  warnings.warn(\n"
     ]
    }
   ],
   "source": [
    "# 모델 로드\n",
    "model = get_existing_model()\n",
    "scaler = get_existing_scaler()"
   ]
  },
  {
   "cell_type": "code",
   "execution_count": 11,
   "metadata": {
    "colab": {
     "base_uri": "https://localhost:8080/",
     "height": 49,
     "referenced_widgets": [
      "7f6a1103e31244a2bc35403f45796b35",
      "7d8cf4613b63414e8ed8eff3f188c50c",
      "fc90c78191d041069f48bdf55d062bc4",
      "c6c1d76752b444bdafb1df89bc4c3d79",
      "15f2780b3c7a4f54a34b2b87b3a9ae3e",
      "b7180b87cba3461986508c8fe3e58d77",
      "2b97d9de6241401faee0e62c0caceae8",
      "1730904d02f244749eadb4c49374be3c",
      "1ee99597943e495f930edfd8276bd769",
      "0547e1f40b874002a7638b4d81b1a21d",
      "e361c5bf83e64429bd8b0c5ced6fe5fa"
     ]
    },
    "executionInfo": {
     "elapsed": 1012,
     "status": "ok",
     "timestamp": 1749711654292,
     "user": {
      "displayName": "신성민",
      "userId": "11183099801659083291"
     },
     "user_tz": -540
    },
    "id": "bbgZuQyfvUEk",
    "outputId": "aa50daf2-25d4-4c80-c582-33da81a4ba29"
   },
   "outputs": [
    {
     "data": {
      "application/vnd.jupyter.widget-view+json": {
       "model_id": "89a9d16dbd9a4afb9ce9c547f79e0e3c",
       "version_major": 2,
       "version_minor": 0
      },
      "text/plain": [
       "감성 분석 진행중:   0%|          | 0/15 [00:00<?, ?batch/s]"
      ]
     },
     "metadata": {},
     "output_type": "display_data"
    }
   ],
   "source": [
    "# 감정평가 수행 후, sentiment_score를 db news 테이블에 새롭게 업데이트한다.\n",
    "news_df = analyze_sentiment_with_progress(news_df)"
   ]
  },
  {
   "cell_type": "code",
   "execution_count": 58,
   "metadata": {
    "executionInfo": {
     "elapsed": 7,
     "status": "ok",
     "timestamp": 1749711654301,
     "user": {
      "displayName": "신성민",
      "userId": "11183099801659083291"
     },
     "user_tz": -540
    },
    "id": "BKC5mC0NAmBe"
   },
   "outputs": [],
   "source": [
    "merged_df = merge_data(news_df, stock_prices_df)"
   ]
  },
  {
   "cell_type": "code",
   "execution_count": 59,
   "metadata": {
    "colab": {
     "base_uri": "https://localhost:8080/",
     "height": 49,
     "referenced_widgets": [
      "b0f00a21a2144bbb97f5c9228d9ad505",
      "024bbe4665f54d389553f8b51702c3b2",
      "1b16a6a0486144908aa2c2dd552066b0",
      "0f25da6fdc0a44e9bebe1348e7c41c75",
      "125b16ebaf18430c8300054d37e8649f",
      "418889356d424bd7a9f3d3ef57caab4b",
      "09ed616404e94eb6a10d20b00230221d",
      "9ca4fcd3ca194e738ef7e218b0a46dfb",
      "dceb055480084ab084bbc52377486513",
      "066426f113bc49db8231fb8a0e254d17",
      "65e849737a424a46833c3eb076b5cd58"
     ]
    },
    "executionInfo": {
     "elapsed": 2612,
     "status": "ok",
     "timestamp": 1749711656914,
     "user": {
      "displayName": "신성민",
      "userId": "11183099801659083291"
     },
     "user_tz": -540
    },
    "id": "0hJPpm30TOWF",
    "outputId": "6ed1e02d-4132-4771-a2f8-11bb3170cd9c"
   },
   "outputs": [
    {
     "data": {
      "application/vnd.jupyter.widget-view+json": {
       "model_id": "ee4f782752a147f3b548da59f7db4b47",
       "version_major": 2,
       "version_minor": 0
      },
      "text/plain": [
       "  0%|          | 0/464 [00:00<?, ?it/s]"
      ]
     },
     "metadata": {},
     "output_type": "display_data"
    }
   ],
   "source": [
    "merged_df['sentiment_influence'] = 0.0\n",
    "merged_df = add_integer_column(merged_df)\n",
    "\n",
    "sums_sentiment_score_for_7_days(merged_df)"
   ]
  },
  {
   "cell_type": "code",
   "execution_count": 14,
   "metadata": {
    "colab": {
     "base_uri": "https://localhost:8080/"
    },
    "executionInfo": {
     "elapsed": 916,
     "status": "ok",
     "timestamp": 1749711657832,
     "user": {
      "displayName": "신성민",
      "userId": "11183099801659083291"
     },
     "user_tz": -540
    },
    "id": "RFqr2mVGAna9",
    "outputId": "c5903fd8-5c33-4134-f5f9-0e47bac312b6"
   },
   "outputs": [
    {
     "name": "stdout",
     "output_type": "stream",
     "text": [
      "🔄 464개의 감성 점수를 DB에 업데이트합니다...\n",
      "✅ DB 업데이트가 성공적으로 완료되었습니다.\n"
     ]
    }
   ],
   "source": [
    "update_sentiment_score_in_db(supabase, merged_df)"
   ]
  },
  {
   "cell_type": "code",
   "execution_count": 61,
   "metadata": {
    "colab": {
     "base_uri": "https://localhost:8080/",
     "height": 1000
    },
    "executionInfo": {
     "elapsed": 5,
     "status": "ok",
     "timestamp": 1749711657835,
     "user": {
      "displayName": "신성민",
      "userId": "11183099801659083291"
     },
     "user_tz": -540
    },
    "id": "j2hD1HhiTQ6h",
    "outputId": "ef1c84ae-fdd8-443f-e8ac-b2b9462fd684"
   },
   "outputs": [
    {
     "data": {
      "text/html": [
       "<div>\n",
       "<style scoped>\n",
       "    .dataframe tbody tr th:only-of-type {\n",
       "        vertical-align: middle;\n",
       "    }\n",
       "\n",
       "    .dataframe tbody tr th {\n",
       "        vertical-align: top;\n",
       "    }\n",
       "\n",
       "    .dataframe thead th {\n",
       "        text-align: right;\n",
       "    }\n",
       "</style>\n",
       "<table border=\"1\" class=\"dataframe\">\n",
       "  <thead>\n",
       "    <tr style=\"text-align: right;\">\n",
       "      <th></th>\n",
       "      <th>news_id</th>\n",
       "      <th>title</th>\n",
       "      <th>sentiment</th>\n",
       "      <th>confidence</th>\n",
       "      <th>stock_price_id</th>\n",
       "      <th>change_rate</th>\n",
       "      <th>close_price</th>\n",
       "      <th>high_price</th>\n",
       "      <th>low_price</th>\n",
       "      <th>open_price</th>\n",
       "      <th>stock_id</th>\n",
       "      <th>volume</th>\n",
       "      <th>adj_close_price</th>\n",
       "      <th>sentiment_influence</th>\n",
       "      <th>sentiment_score</th>\n",
       "    </tr>\n",
       "    <tr>\n",
       "      <th>date</th>\n",
       "      <th></th>\n",
       "      <th></th>\n",
       "      <th></th>\n",
       "      <th></th>\n",
       "      <th></th>\n",
       "      <th></th>\n",
       "      <th></th>\n",
       "      <th></th>\n",
       "      <th></th>\n",
       "      <th></th>\n",
       "      <th></th>\n",
       "      <th></th>\n",
       "      <th></th>\n",
       "      <th></th>\n",
       "      <th></th>\n",
       "    </tr>\n",
       "  </thead>\n",
       "  <tbody>\n",
       "    <tr>\n",
       "      <th>2025-05-23</th>\n",
       "      <td>31bdf9d9-847d-4bfb-9a7a-db97f88b61ab</td>\n",
       "      <td>Robotaxi Fever Fuels $500 Tesla Stock Price Ta...</td>\n",
       "      <td>positive</td>\n",
       "      <td>0.6773</td>\n",
       "      <td>1fe120e2-5648-4fb7-9908-02ac4927091c</td>\n",
       "      <td>0.0</td>\n",
       "      <td>339.34</td>\n",
       "      <td>343.18</td>\n",
       "      <td>333.21</td>\n",
       "      <td>337.920</td>\n",
       "      <td>c695fc5b-eb68-4fc9-ab14-a16b24af6b37</td>\n",
       "      <td>84654818.0</td>\n",
       "      <td>339.34</td>\n",
       "      <td>-0.693800</td>\n",
       "      <td>1</td>\n",
       "    </tr>\n",
       "    <tr>\n",
       "      <th>2025-05-24</th>\n",
       "      <td>79b2bbdf-21d6-4a5a-969a-7eba9732d7a0</td>\n",
       "      <td>2025.14.100.1 Official Tesla Release Notes - S...</td>\n",
       "      <td>neutral</td>\n",
       "      <td>0.9483</td>\n",
       "      <td>NaN</td>\n",
       "      <td>NaN</td>\n",
       "      <td>NaN</td>\n",
       "      <td>NaN</td>\n",
       "      <td>NaN</td>\n",
       "      <td>NaN</td>\n",
       "      <td>NaN</td>\n",
       "      <td>NaN</td>\n",
       "      <td>NaN</td>\n",
       "      <td>-0.270030</td>\n",
       "      <td>0</td>\n",
       "    </tr>\n",
       "    <tr>\n",
       "      <th>2025-06-01</th>\n",
       "      <td>7b674e8c-6e7f-4827-8072-0c9c340ad72a</td>\n",
       "      <td>Chinese EV Makers Pull Away From Tesla With Sa...</td>\n",
       "      <td>negative</td>\n",
       "      <td>0.7068</td>\n",
       "      <td>NaN</td>\n",
       "      <td>NaN</td>\n",
       "      <td>NaN</td>\n",
       "      <td>NaN</td>\n",
       "      <td>NaN</td>\n",
       "      <td>NaN</td>\n",
       "      <td>NaN</td>\n",
       "      <td>NaN</td>\n",
       "      <td>NaN</td>\n",
       "      <td>-10.730640</td>\n",
       "      <td>-1</td>\n",
       "    </tr>\n",
       "    <tr>\n",
       "      <th>2025-06-01</th>\n",
       "      <td>9289ac42-2b0c-411f-b5d2-40d6e43ed771</td>\n",
       "      <td>Tesla Model 3’s Reign Challenged: These Long-R...</td>\n",
       "      <td>positive</td>\n",
       "      <td>0.7283</td>\n",
       "      <td>NaN</td>\n",
       "      <td>NaN</td>\n",
       "      <td>NaN</td>\n",
       "      <td>NaN</td>\n",
       "      <td>NaN</td>\n",
       "      <td>NaN</td>\n",
       "      <td>NaN</td>\n",
       "      <td>NaN</td>\n",
       "      <td>NaN</td>\n",
       "      <td>-10.730640</td>\n",
       "      <td>1</td>\n",
       "    </tr>\n",
       "    <tr>\n",
       "      <th>2025-06-02</th>\n",
       "      <td>c5ba1739-475b-466a-88cd-830da9589186</td>\n",
       "      <td>Tesla's Affordable EV Denials Sent The Company...</td>\n",
       "      <td>negative</td>\n",
       "      <td>0.8362</td>\n",
       "      <td>da4d93a7-6533-499e-86f0-0cbe6e5ebebf</td>\n",
       "      <td>0.0</td>\n",
       "      <td>342.69</td>\n",
       "      <td>348.02</td>\n",
       "      <td>333.33</td>\n",
       "      <td>343.500</td>\n",
       "      <td>c695fc5b-eb68-4fc9-ab14-a16b24af6b37</td>\n",
       "      <td>81873829.0</td>\n",
       "      <td>342.69</td>\n",
       "      <td>-8.973740</td>\n",
       "      <td>-1</td>\n",
       "    </tr>\n",
       "    <tr>\n",
       "      <th>...</th>\n",
       "      <td>...</td>\n",
       "      <td>...</td>\n",
       "      <td>...</td>\n",
       "      <td>...</td>\n",
       "      <td>...</td>\n",
       "      <td>...</td>\n",
       "      <td>...</td>\n",
       "      <td>...</td>\n",
       "      <td>...</td>\n",
       "      <td>...</td>\n",
       "      <td>...</td>\n",
       "      <td>...</td>\n",
       "      <td>...</td>\n",
       "      <td>...</td>\n",
       "      <td>...</td>\n",
       "    </tr>\n",
       "    <tr>\n",
       "      <th>2025-06-11</th>\n",
       "      <td>0e533e3a-2e7a-4f93-b11e-281fde368e8b</td>\n",
       "      <td>Tesla Stock Ekes Out a 4th Straight Day of Gai...</td>\n",
       "      <td>positive</td>\n",
       "      <td>0.7113</td>\n",
       "      <td>87067fe9-1e51-403d-bd7a-bef25a3881f2</td>\n",
       "      <td>0.0</td>\n",
       "      <td>326.43</td>\n",
       "      <td>335.50</td>\n",
       "      <td>322.50</td>\n",
       "      <td>334.395</td>\n",
       "      <td>c695fc5b-eb68-4fc9-ab14-a16b24af6b37</td>\n",
       "      <td>122611360.0</td>\n",
       "      <td>326.43</td>\n",
       "      <td>-21.767525</td>\n",
       "      <td>1</td>\n",
       "    </tr>\n",
       "    <tr>\n",
       "      <th>2025-06-11</th>\n",
       "      <td>9ee7b58f-3698-447c-90c5-5b3fe009c3bb</td>\n",
       "      <td>Elon Musk Sets Tentative Tesla Robotaxi Launch...</td>\n",
       "      <td>neutral</td>\n",
       "      <td>0.9298</td>\n",
       "      <td>87067fe9-1e51-403d-bd7a-bef25a3881f2</td>\n",
       "      <td>0.0</td>\n",
       "      <td>326.43</td>\n",
       "      <td>335.50</td>\n",
       "      <td>322.50</td>\n",
       "      <td>334.395</td>\n",
       "      <td>c695fc5b-eb68-4fc9-ab14-a16b24af6b37</td>\n",
       "      <td>122611360.0</td>\n",
       "      <td>326.43</td>\n",
       "      <td>-21.767525</td>\n",
       "      <td>0</td>\n",
       "    </tr>\n",
       "    <tr>\n",
       "      <th>2025-06-11</th>\n",
       "      <td>b5da94d3-b10e-4868-a0c6-c9281bd3c0ea</td>\n",
       "      <td>The Latest Tempest for Tesla's Stock Looks to ...</td>\n",
       "      <td>neutral</td>\n",
       "      <td>0.5397</td>\n",
       "      <td>87067fe9-1e51-403d-bd7a-bef25a3881f2</td>\n",
       "      <td>0.0</td>\n",
       "      <td>326.43</td>\n",
       "      <td>335.50</td>\n",
       "      <td>322.50</td>\n",
       "      <td>334.395</td>\n",
       "      <td>c695fc5b-eb68-4fc9-ab14-a16b24af6b37</td>\n",
       "      <td>122611360.0</td>\n",
       "      <td>326.43</td>\n",
       "      <td>-21.767525</td>\n",
       "      <td>0</td>\n",
       "    </tr>\n",
       "    <tr>\n",
       "      <th>2025-06-11</th>\n",
       "      <td>e8844bb4-aadb-4390-9a9c-f322ef48bd9f</td>\n",
       "      <td>Elon Musk Says Tesla's Robotaxi Service Will '...</td>\n",
       "      <td>neutral</td>\n",
       "      <td>0.8533</td>\n",
       "      <td>87067fe9-1e51-403d-bd7a-bef25a3881f2</td>\n",
       "      <td>0.0</td>\n",
       "      <td>326.43</td>\n",
       "      <td>335.50</td>\n",
       "      <td>322.50</td>\n",
       "      <td>334.395</td>\n",
       "      <td>c695fc5b-eb68-4fc9-ab14-a16b24af6b37</td>\n",
       "      <td>122611360.0</td>\n",
       "      <td>326.43</td>\n",
       "      <td>-21.767525</td>\n",
       "      <td>0</td>\n",
       "    </tr>\n",
       "    <tr>\n",
       "      <th>2025-06-11</th>\n",
       "      <td>644d0fa8-4b7b-484a-8022-a674869e56a1</td>\n",
       "      <td>Video of Donald Trump announcing US ban on Tes...</td>\n",
       "      <td>neutral</td>\n",
       "      <td>0.5551</td>\n",
       "      <td>87067fe9-1e51-403d-bd7a-bef25a3881f2</td>\n",
       "      <td>0.0</td>\n",
       "      <td>326.43</td>\n",
       "      <td>335.50</td>\n",
       "      <td>322.50</td>\n",
       "      <td>334.395</td>\n",
       "      <td>c695fc5b-eb68-4fc9-ab14-a16b24af6b37</td>\n",
       "      <td>122611360.0</td>\n",
       "      <td>326.43</td>\n",
       "      <td>-21.767525</td>\n",
       "      <td>0</td>\n",
       "    </tr>\n",
       "  </tbody>\n",
       "</table>\n",
       "<p>464 rows × 15 columns</p>\n",
       "</div>"
      ],
      "text/plain": [
       "                                         news_id  \\\n",
       "date                                               \n",
       "2025-05-23  31bdf9d9-847d-4bfb-9a7a-db97f88b61ab   \n",
       "2025-05-24  79b2bbdf-21d6-4a5a-969a-7eba9732d7a0   \n",
       "2025-06-01  7b674e8c-6e7f-4827-8072-0c9c340ad72a   \n",
       "2025-06-01  9289ac42-2b0c-411f-b5d2-40d6e43ed771   \n",
       "2025-06-02  c5ba1739-475b-466a-88cd-830da9589186   \n",
       "...                                          ...   \n",
       "2025-06-11  0e533e3a-2e7a-4f93-b11e-281fde368e8b   \n",
       "2025-06-11  9ee7b58f-3698-447c-90c5-5b3fe009c3bb   \n",
       "2025-06-11  b5da94d3-b10e-4868-a0c6-c9281bd3c0ea   \n",
       "2025-06-11  e8844bb4-aadb-4390-9a9c-f322ef48bd9f   \n",
       "2025-06-11  644d0fa8-4b7b-484a-8022-a674869e56a1   \n",
       "\n",
       "                                                        title sentiment  \\\n",
       "date                                                                      \n",
       "2025-05-23  Robotaxi Fever Fuels $500 Tesla Stock Price Ta...  positive   \n",
       "2025-05-24  2025.14.100.1 Official Tesla Release Notes - S...   neutral   \n",
       "2025-06-01  Chinese EV Makers Pull Away From Tesla With Sa...  negative   \n",
       "2025-06-01  Tesla Model 3’s Reign Challenged: These Long-R...  positive   \n",
       "2025-06-02  Tesla's Affordable EV Denials Sent The Company...  negative   \n",
       "...                                                       ...       ...   \n",
       "2025-06-11  Tesla Stock Ekes Out a 4th Straight Day of Gai...  positive   \n",
       "2025-06-11  Elon Musk Sets Tentative Tesla Robotaxi Launch...   neutral   \n",
       "2025-06-11  The Latest Tempest for Tesla's Stock Looks to ...   neutral   \n",
       "2025-06-11  Elon Musk Says Tesla's Robotaxi Service Will '...   neutral   \n",
       "2025-06-11  Video of Donald Trump announcing US ban on Tes...   neutral   \n",
       "\n",
       "            confidence                        stock_price_id  change_rate  \\\n",
       "date                                                                        \n",
       "2025-05-23      0.6773  1fe120e2-5648-4fb7-9908-02ac4927091c          0.0   \n",
       "2025-05-24      0.9483                                   NaN          NaN   \n",
       "2025-06-01      0.7068                                   NaN          NaN   \n",
       "2025-06-01      0.7283                                   NaN          NaN   \n",
       "2025-06-02      0.8362  da4d93a7-6533-499e-86f0-0cbe6e5ebebf          0.0   \n",
       "...                ...                                   ...          ...   \n",
       "2025-06-11      0.7113  87067fe9-1e51-403d-bd7a-bef25a3881f2          0.0   \n",
       "2025-06-11      0.9298  87067fe9-1e51-403d-bd7a-bef25a3881f2          0.0   \n",
       "2025-06-11      0.5397  87067fe9-1e51-403d-bd7a-bef25a3881f2          0.0   \n",
       "2025-06-11      0.8533  87067fe9-1e51-403d-bd7a-bef25a3881f2          0.0   \n",
       "2025-06-11      0.5551  87067fe9-1e51-403d-bd7a-bef25a3881f2          0.0   \n",
       "\n",
       "            close_price  high_price  low_price  open_price  \\\n",
       "date                                                         \n",
       "2025-05-23       339.34      343.18     333.21     337.920   \n",
       "2025-05-24          NaN         NaN        NaN         NaN   \n",
       "2025-06-01          NaN         NaN        NaN         NaN   \n",
       "2025-06-01          NaN         NaN        NaN         NaN   \n",
       "2025-06-02       342.69      348.02     333.33     343.500   \n",
       "...                 ...         ...        ...         ...   \n",
       "2025-06-11       326.43      335.50     322.50     334.395   \n",
       "2025-06-11       326.43      335.50     322.50     334.395   \n",
       "2025-06-11       326.43      335.50     322.50     334.395   \n",
       "2025-06-11       326.43      335.50     322.50     334.395   \n",
       "2025-06-11       326.43      335.50     322.50     334.395   \n",
       "\n",
       "                                        stock_id       volume  \\\n",
       "date                                                            \n",
       "2025-05-23  c695fc5b-eb68-4fc9-ab14-a16b24af6b37   84654818.0   \n",
       "2025-05-24                                   NaN          NaN   \n",
       "2025-06-01                                   NaN          NaN   \n",
       "2025-06-01                                   NaN          NaN   \n",
       "2025-06-02  c695fc5b-eb68-4fc9-ab14-a16b24af6b37   81873829.0   \n",
       "...                                          ...          ...   \n",
       "2025-06-11  c695fc5b-eb68-4fc9-ab14-a16b24af6b37  122611360.0   \n",
       "2025-06-11  c695fc5b-eb68-4fc9-ab14-a16b24af6b37  122611360.0   \n",
       "2025-06-11  c695fc5b-eb68-4fc9-ab14-a16b24af6b37  122611360.0   \n",
       "2025-06-11  c695fc5b-eb68-4fc9-ab14-a16b24af6b37  122611360.0   \n",
       "2025-06-11  c695fc5b-eb68-4fc9-ab14-a16b24af6b37  122611360.0   \n",
       "\n",
       "            adj_close_price  sentiment_influence  sentiment_score  \n",
       "date                                                               \n",
       "2025-05-23           339.34            -0.693800                1  \n",
       "2025-05-24              NaN            -0.270030                0  \n",
       "2025-06-01              NaN           -10.730640               -1  \n",
       "2025-06-01              NaN           -10.730640                1  \n",
       "2025-06-02           342.69            -8.973740               -1  \n",
       "...                     ...                  ...              ...  \n",
       "2025-06-11           326.43           -21.767525                1  \n",
       "2025-06-11           326.43           -21.767525                0  \n",
       "2025-06-11           326.43           -21.767525                0  \n",
       "2025-06-11           326.43           -21.767525                0  \n",
       "2025-06-11           326.43           -21.767525                0  \n",
       "\n",
       "[464 rows x 15 columns]"
      ]
     },
     "execution_count": 61,
     "metadata": {},
     "output_type": "execute_result"
    }
   ],
   "source": [
    "merged_df"
   ]
  },
  {
   "cell_type": "code",
   "execution_count": 48,
   "metadata": {
    "executionInfo": {
     "elapsed": 2,
     "status": "ok",
     "timestamp": 1749711657836,
     "user": {
      "displayName": "신성민",
      "userId": "11183099801659083291"
     },
     "user_tz": -540
    },
    "id": "l_BZOaBhjsp0"
   },
   "outputs": [],
   "source": [
    "features = ['sentiment_influence', 'open', 'high', 'low', 'adjClose', 'volume']\n",
    "target   = 'close'\n",
    "all_cols = features + [target]\n",
    "\n",
    "dropped_merged_df = merged_df.rename(columns={'open_price':'open', 'high_price' : 'high', 'low_price' : 'low', 'close_price' : 'close', 'adj_close_price' : 'adjClose'})\n",
    "dropped_merged_df = dropped_merged_df[ features + [target] ].dropna()\n",
    "\n",
    "scaled = get_scale_data(scaler, dropped_merged_df)\n",
    "X = create_sequences_for_prod(scaled)"
   ]
  },
  {
   "cell_type": "code",
   "execution_count": 44,
   "metadata": {
    "colab": {
     "base_uri": "https://localhost:8080/",
     "height": 1000
    },
    "executionInfo": {
     "elapsed": 139,
     "status": "error",
     "timestamp": 1749711657976,
     "user": {
      "displayName": "신성민",
      "userId": "11183099801659083291"
     },
     "user_tz": -540
    },
    "id": "_ZvQklV5Nq94",
    "outputId": "4237b973-b272-428f-a3e6-32a9e6160b01"
   },
   "outputs": [
    {
     "name": "stdout",
     "output_type": "stream",
     "text": [
      "\u001b[1m1/1\u001b[0m \u001b[32m━━━━━━━━━━━━━━━━━━━━\u001b[0m\u001b[37m\u001b[0m \u001b[1m0s\u001b[0m 24ms/step\n"
     ]
    }
   ],
   "source": [
    "y_pred_scaled = predict_prices(model, X)"
   ]
  },
  {
   "cell_type": "code",
   "execution_count": 45,
   "metadata": {
    "executionInfo": {
     "elapsed": 10397,
     "status": "aborted",
     "timestamp": 1749711658014,
     "user": {
      "displayName": "신성민",
      "userId": "11183099801659083291"
     },
     "user_tz": -540
    },
    "id": "Wvw07yg5jtJN"
   },
   "outputs": [],
   "source": [
    "all_cols = ['sentiment_influence', 'open', 'high', 'low', 'adjClose', 'volume', 'close']\n",
    "features = all_cols[:-1] # 'close'를 제외한 모든 컬럼\n",
    "target = 'close'\n",
    "target_col_index = all_cols.index(target)\n",
    "\n",
    "num_features = len(features)\n",
    "dummy_array = np.zeros((len(y_pred_scaled), len(all_cols)))\n",
    "# 'close' 위치(6번 인덱스)에 예측된 값을 삽입\n",
    "dummy_array[:, target_col_index] = y_pred_scaled.ravel()\n",
    "# Scaler를 이용해 전체 배열을 역변환하고, 'close' 컬럼만 추출\n",
    "y_pred_actual = scaler.inverse_transform(dummy_array)[:, target_col_index]"
   ]
  },
  {
   "cell_type": "code",
   "execution_count": 84,
   "metadata": {
    "executionInfo": {
     "elapsed": 10397,
     "status": "aborted",
     "timestamp": 1749711658015,
     "user": {
      "displayName": "신성민",
      "userId": "11183099801659083291"
     },
     "user_tz": -540
    },
    "id": "LUfDxzVtj8Bi"
   },
   "outputs": [
    {
     "name": "stdout",
     "output_type": "stream",
     "text": [
      "예측된 실제 종가: $325.1013\n",
      "1049967\n"
     ]
    }
   ],
   "source": [
    "next_day_predicted_close = y_pred_actual[-1].round(4)\n",
    "closely_prev_price = get_closely_prev_close_price(merged_df)\n",
    "change_rate = get_change_rate(closely_prev_price, next_day_predicted_close)\n",
    "print(f\"예측된 실제 종가: ${next_day_predicted_close:.4f}\")\n",
    "capitalization = get_capitalization(finnhub_client, stock_code)\n",
    "print(capitalization)"
   ]
  },
  {
   "cell_type": "code",
   "execution_count": 86,
   "metadata": {},
   "outputs": [
    {
     "name": "stdout",
     "output_type": "stream",
     "text": [
      "✅ DB 업데이트가 성공적으로 완료되었습니다.\n"
     ]
    }
   ],
   "source": [
    "today_date = datetime.now().strftime(\"%Y-%m-%d\")\n",
    "save_predictions_in_db(stock_id, stock_code, company_name, next_day_predicted_close, today_date, change_rate, capitalization)"
   ]
  }
 ],
 "metadata": {
  "accelerator": "GPU",
  "colab": {
   "authorship_tag": "ABX9TyM44HONRbONwHN2lD2rFIgT",
   "gpuType": "T4",
   "provenance": []
  },
  "kernelspec": {
   "display_name": ".venv",
   "language": "python",
   "name": "python3"
  },
  "language_info": {
   "codemirror_mode": {
    "name": "ipython",
    "version": 3
   },
   "file_extension": ".py",
   "mimetype": "text/x-python",
   "name": "python",
   "nbconvert_exporter": "python",
   "pygments_lexer": "ipython3",
   "version": "3.11.11"
  },
  "widgets": {
   "application/vnd.jupyter.widget-state+json": {
    "024bbe4665f54d389553f8b51702c3b2": {
     "model_module": "@jupyter-widgets/controls",
     "model_module_version": "1.5.0",
     "model_name": "HTMLModel",
     "state": {
      "_dom_classes": [],
      "_model_module": "@jupyter-widgets/controls",
      "_model_module_version": "1.5.0",
      "_model_name": "HTMLModel",
      "_view_count": null,
      "_view_module": "@jupyter-widgets/controls",
      "_view_module_version": "1.5.0",
      "_view_name": "HTMLView",
      "description": "",
      "description_tooltip": null,
      "layout": "IPY_MODEL_418889356d424bd7a9f3d3ef57caab4b",
      "placeholder": "​",
      "style": "IPY_MODEL_09ed616404e94eb6a10d20b00230221d",
      "value": "100%"
     }
    },
    "0547e1f40b874002a7638b4d81b1a21d": {
     "model_module": "@jupyter-widgets/base",
     "model_module_version": "1.2.0",
     "model_name": "LayoutModel",
     "state": {
      "_model_module": "@jupyter-widgets/base",
      "_model_module_version": "1.2.0",
      "_model_name": "LayoutModel",
      "_view_count": null,
      "_view_module": "@jupyter-widgets/base",
      "_view_module_version": "1.2.0",
      "_view_name": "LayoutView",
      "align_content": null,
      "align_items": null,
      "align_self": null,
      "border": null,
      "bottom": null,
      "display": null,
      "flex": null,
      "flex_flow": null,
      "grid_area": null,
      "grid_auto_columns": null,
      "grid_auto_flow": null,
      "grid_auto_rows": null,
      "grid_column": null,
      "grid_gap": null,
      "grid_row": null,
      "grid_template_areas": null,
      "grid_template_columns": null,
      "grid_template_rows": null,
      "height": null,
      "justify_content": null,
      "justify_items": null,
      "left": null,
      "margin": null,
      "max_height": null,
      "max_width": null,
      "min_height": null,
      "min_width": null,
      "object_fit": null,
      "object_position": null,
      "order": null,
      "overflow": null,
      "overflow_x": null,
      "overflow_y": null,
      "padding": null,
      "right": null,
      "top": null,
      "visibility": null,
      "width": null
     }
    },
    "066426f113bc49db8231fb8a0e254d17": {
     "model_module": "@jupyter-widgets/base",
     "model_module_version": "1.2.0",
     "model_name": "LayoutModel",
     "state": {
      "_model_module": "@jupyter-widgets/base",
      "_model_module_version": "1.2.0",
      "_model_name": "LayoutModel",
      "_view_count": null,
      "_view_module": "@jupyter-widgets/base",
      "_view_module_version": "1.2.0",
      "_view_name": "LayoutView",
      "align_content": null,
      "align_items": null,
      "align_self": null,
      "border": null,
      "bottom": null,
      "display": null,
      "flex": null,
      "flex_flow": null,
      "grid_area": null,
      "grid_auto_columns": null,
      "grid_auto_flow": null,
      "grid_auto_rows": null,
      "grid_column": null,
      "grid_gap": null,
      "grid_row": null,
      "grid_template_areas": null,
      "grid_template_columns": null,
      "grid_template_rows": null,
      "height": null,
      "justify_content": null,
      "justify_items": null,
      "left": null,
      "margin": null,
      "max_height": null,
      "max_width": null,
      "min_height": null,
      "min_width": null,
      "object_fit": null,
      "object_position": null,
      "order": null,
      "overflow": null,
      "overflow_x": null,
      "overflow_y": null,
      "padding": null,
      "right": null,
      "top": null,
      "visibility": null,
      "width": null
     }
    },
    "09ed616404e94eb6a10d20b00230221d": {
     "model_module": "@jupyter-widgets/controls",
     "model_module_version": "1.5.0",
     "model_name": "DescriptionStyleModel",
     "state": {
      "_model_module": "@jupyter-widgets/controls",
      "_model_module_version": "1.5.0",
      "_model_name": "DescriptionStyleModel",
      "_view_count": null,
      "_view_module": "@jupyter-widgets/base",
      "_view_module_version": "1.2.0",
      "_view_name": "StyleView",
      "description_width": ""
     }
    },
    "0f25da6fdc0a44e9bebe1348e7c41c75": {
     "model_module": "@jupyter-widgets/controls",
     "model_module_version": "1.5.0",
     "model_name": "HTMLModel",
     "state": {
      "_dom_classes": [],
      "_model_module": "@jupyter-widgets/controls",
      "_model_module_version": "1.5.0",
      "_model_name": "HTMLModel",
      "_view_count": null,
      "_view_module": "@jupyter-widgets/controls",
      "_view_module_version": "1.5.0",
      "_view_name": "HTMLView",
      "description": "",
      "description_tooltip": null,
      "layout": "IPY_MODEL_066426f113bc49db8231fb8a0e254d17",
      "placeholder": "​",
      "style": "IPY_MODEL_65e849737a424a46833c3eb076b5cd58",
      "value": " 464/464 [00:02&lt;00:00, 239.37it/s]"
     }
    },
    "125b16ebaf18430c8300054d37e8649f": {
     "model_module": "@jupyter-widgets/base",
     "model_module_version": "1.2.0",
     "model_name": "LayoutModel",
     "state": {
      "_model_module": "@jupyter-widgets/base",
      "_model_module_version": "1.2.0",
      "_model_name": "LayoutModel",
      "_view_count": null,
      "_view_module": "@jupyter-widgets/base",
      "_view_module_version": "1.2.0",
      "_view_name": "LayoutView",
      "align_content": null,
      "align_items": null,
      "align_self": null,
      "border": null,
      "bottom": null,
      "display": null,
      "flex": null,
      "flex_flow": null,
      "grid_area": null,
      "grid_auto_columns": null,
      "grid_auto_flow": null,
      "grid_auto_rows": null,
      "grid_column": null,
      "grid_gap": null,
      "grid_row": null,
      "grid_template_areas": null,
      "grid_template_columns": null,
      "grid_template_rows": null,
      "height": null,
      "justify_content": null,
      "justify_items": null,
      "left": null,
      "margin": null,
      "max_height": null,
      "max_width": null,
      "min_height": null,
      "min_width": null,
      "object_fit": null,
      "object_position": null,
      "order": null,
      "overflow": null,
      "overflow_x": null,
      "overflow_y": null,
      "padding": null,
      "right": null,
      "top": null,
      "visibility": null,
      "width": null
     }
    },
    "15f2780b3c7a4f54a34b2b87b3a9ae3e": {
     "model_module": "@jupyter-widgets/base",
     "model_module_version": "1.2.0",
     "model_name": "LayoutModel",
     "state": {
      "_model_module": "@jupyter-widgets/base",
      "_model_module_version": "1.2.0",
      "_model_name": "LayoutModel",
      "_view_count": null,
      "_view_module": "@jupyter-widgets/base",
      "_view_module_version": "1.2.0",
      "_view_name": "LayoutView",
      "align_content": null,
      "align_items": null,
      "align_self": null,
      "border": null,
      "bottom": null,
      "display": null,
      "flex": null,
      "flex_flow": null,
      "grid_area": null,
      "grid_auto_columns": null,
      "grid_auto_flow": null,
      "grid_auto_rows": null,
      "grid_column": null,
      "grid_gap": null,
      "grid_row": null,
      "grid_template_areas": null,
      "grid_template_columns": null,
      "grid_template_rows": null,
      "height": null,
      "justify_content": null,
      "justify_items": null,
      "left": null,
      "margin": null,
      "max_height": null,
      "max_width": null,
      "min_height": null,
      "min_width": null,
      "object_fit": null,
      "object_position": null,
      "order": null,
      "overflow": null,
      "overflow_x": null,
      "overflow_y": null,
      "padding": null,
      "right": null,
      "top": null,
      "visibility": null,
      "width": null
     }
    },
    "1730904d02f244749eadb4c49374be3c": {
     "model_module": "@jupyter-widgets/base",
     "model_module_version": "1.2.0",
     "model_name": "LayoutModel",
     "state": {
      "_model_module": "@jupyter-widgets/base",
      "_model_module_version": "1.2.0",
      "_model_name": "LayoutModel",
      "_view_count": null,
      "_view_module": "@jupyter-widgets/base",
      "_view_module_version": "1.2.0",
      "_view_name": "LayoutView",
      "align_content": null,
      "align_items": null,
      "align_self": null,
      "border": null,
      "bottom": null,
      "display": null,
      "flex": null,
      "flex_flow": null,
      "grid_area": null,
      "grid_auto_columns": null,
      "grid_auto_flow": null,
      "grid_auto_rows": null,
      "grid_column": null,
      "grid_gap": null,
      "grid_row": null,
      "grid_template_areas": null,
      "grid_template_columns": null,
      "grid_template_rows": null,
      "height": null,
      "justify_content": null,
      "justify_items": null,
      "left": null,
      "margin": null,
      "max_height": null,
      "max_width": null,
      "min_height": null,
      "min_width": null,
      "object_fit": null,
      "object_position": null,
      "order": null,
      "overflow": null,
      "overflow_x": null,
      "overflow_y": null,
      "padding": null,
      "right": null,
      "top": null,
      "visibility": null,
      "width": null
     }
    },
    "1b16a6a0486144908aa2c2dd552066b0": {
     "model_module": "@jupyter-widgets/controls",
     "model_module_version": "1.5.0",
     "model_name": "FloatProgressModel",
     "state": {
      "_dom_classes": [],
      "_model_module": "@jupyter-widgets/controls",
      "_model_module_version": "1.5.0",
      "_model_name": "FloatProgressModel",
      "_view_count": null,
      "_view_module": "@jupyter-widgets/controls",
      "_view_module_version": "1.5.0",
      "_view_name": "ProgressView",
      "bar_style": "success",
      "description": "",
      "description_tooltip": null,
      "layout": "IPY_MODEL_9ca4fcd3ca194e738ef7e218b0a46dfb",
      "max": 464,
      "min": 0,
      "orientation": "horizontal",
      "style": "IPY_MODEL_dceb055480084ab084bbc52377486513",
      "value": 464
     }
    },
    "1ee99597943e495f930edfd8276bd769": {
     "model_module": "@jupyter-widgets/controls",
     "model_module_version": "1.5.0",
     "model_name": "ProgressStyleModel",
     "state": {
      "_model_module": "@jupyter-widgets/controls",
      "_model_module_version": "1.5.0",
      "_model_name": "ProgressStyleModel",
      "_view_count": null,
      "_view_module": "@jupyter-widgets/base",
      "_view_module_version": "1.2.0",
      "_view_name": "StyleView",
      "bar_color": null,
      "description_width": ""
     }
    },
    "2b97d9de6241401faee0e62c0caceae8": {
     "model_module": "@jupyter-widgets/controls",
     "model_module_version": "1.5.0",
     "model_name": "DescriptionStyleModel",
     "state": {
      "_model_module": "@jupyter-widgets/controls",
      "_model_module_version": "1.5.0",
      "_model_name": "DescriptionStyleModel",
      "_view_count": null,
      "_view_module": "@jupyter-widgets/base",
      "_view_module_version": "1.2.0",
      "_view_name": "StyleView",
      "description_width": ""
     }
    },
    "418889356d424bd7a9f3d3ef57caab4b": {
     "model_module": "@jupyter-widgets/base",
     "model_module_version": "1.2.0",
     "model_name": "LayoutModel",
     "state": {
      "_model_module": "@jupyter-widgets/base",
      "_model_module_version": "1.2.0",
      "_model_name": "LayoutModel",
      "_view_count": null,
      "_view_module": "@jupyter-widgets/base",
      "_view_module_version": "1.2.0",
      "_view_name": "LayoutView",
      "align_content": null,
      "align_items": null,
      "align_self": null,
      "border": null,
      "bottom": null,
      "display": null,
      "flex": null,
      "flex_flow": null,
      "grid_area": null,
      "grid_auto_columns": null,
      "grid_auto_flow": null,
      "grid_auto_rows": null,
      "grid_column": null,
      "grid_gap": null,
      "grid_row": null,
      "grid_template_areas": null,
      "grid_template_columns": null,
      "grid_template_rows": null,
      "height": null,
      "justify_content": null,
      "justify_items": null,
      "left": null,
      "margin": null,
      "max_height": null,
      "max_width": null,
      "min_height": null,
      "min_width": null,
      "object_fit": null,
      "object_position": null,
      "order": null,
      "overflow": null,
      "overflow_x": null,
      "overflow_y": null,
      "padding": null,
      "right": null,
      "top": null,
      "visibility": null,
      "width": null
     }
    },
    "65e849737a424a46833c3eb076b5cd58": {
     "model_module": "@jupyter-widgets/controls",
     "model_module_version": "1.5.0",
     "model_name": "DescriptionStyleModel",
     "state": {
      "_model_module": "@jupyter-widgets/controls",
      "_model_module_version": "1.5.0",
      "_model_name": "DescriptionStyleModel",
      "_view_count": null,
      "_view_module": "@jupyter-widgets/base",
      "_view_module_version": "1.2.0",
      "_view_name": "StyleView",
      "description_width": ""
     }
    },
    "7d8cf4613b63414e8ed8eff3f188c50c": {
     "model_module": "@jupyter-widgets/controls",
     "model_module_version": "1.5.0",
     "model_name": "HTMLModel",
     "state": {
      "_dom_classes": [],
      "_model_module": "@jupyter-widgets/controls",
      "_model_module_version": "1.5.0",
      "_model_name": "HTMLModel",
      "_view_count": null,
      "_view_module": "@jupyter-widgets/controls",
      "_view_module_version": "1.5.0",
      "_view_name": "HTMLView",
      "description": "",
      "description_tooltip": null,
      "layout": "IPY_MODEL_b7180b87cba3461986508c8fe3e58d77",
      "placeholder": "​",
      "style": "IPY_MODEL_2b97d9de6241401faee0e62c0caceae8",
      "value": "감성 분석 진행중: 100%"
     }
    },
    "7f6a1103e31244a2bc35403f45796b35": {
     "model_module": "@jupyter-widgets/controls",
     "model_module_version": "1.5.0",
     "model_name": "HBoxModel",
     "state": {
      "_dom_classes": [],
      "_model_module": "@jupyter-widgets/controls",
      "_model_module_version": "1.5.0",
      "_model_name": "HBoxModel",
      "_view_count": null,
      "_view_module": "@jupyter-widgets/controls",
      "_view_module_version": "1.5.0",
      "_view_name": "HBoxView",
      "box_style": "",
      "children": [
       "IPY_MODEL_7d8cf4613b63414e8ed8eff3f188c50c",
       "IPY_MODEL_fc90c78191d041069f48bdf55d062bc4",
       "IPY_MODEL_c6c1d76752b444bdafb1df89bc4c3d79"
      ],
      "layout": "IPY_MODEL_15f2780b3c7a4f54a34b2b87b3a9ae3e"
     }
    },
    "9ca4fcd3ca194e738ef7e218b0a46dfb": {
     "model_module": "@jupyter-widgets/base",
     "model_module_version": "1.2.0",
     "model_name": "LayoutModel",
     "state": {
      "_model_module": "@jupyter-widgets/base",
      "_model_module_version": "1.2.0",
      "_model_name": "LayoutModel",
      "_view_count": null,
      "_view_module": "@jupyter-widgets/base",
      "_view_module_version": "1.2.0",
      "_view_name": "LayoutView",
      "align_content": null,
      "align_items": null,
      "align_self": null,
      "border": null,
      "bottom": null,
      "display": null,
      "flex": null,
      "flex_flow": null,
      "grid_area": null,
      "grid_auto_columns": null,
      "grid_auto_flow": null,
      "grid_auto_rows": null,
      "grid_column": null,
      "grid_gap": null,
      "grid_row": null,
      "grid_template_areas": null,
      "grid_template_columns": null,
      "grid_template_rows": null,
      "height": null,
      "justify_content": null,
      "justify_items": null,
      "left": null,
      "margin": null,
      "max_height": null,
      "max_width": null,
      "min_height": null,
      "min_width": null,
      "object_fit": null,
      "object_position": null,
      "order": null,
      "overflow": null,
      "overflow_x": null,
      "overflow_y": null,
      "padding": null,
      "right": null,
      "top": null,
      "visibility": null,
      "width": null
     }
    },
    "b0f00a21a2144bbb97f5c9228d9ad505": {
     "model_module": "@jupyter-widgets/controls",
     "model_module_version": "1.5.0",
     "model_name": "HBoxModel",
     "state": {
      "_dom_classes": [],
      "_model_module": "@jupyter-widgets/controls",
      "_model_module_version": "1.5.0",
      "_model_name": "HBoxModel",
      "_view_count": null,
      "_view_module": "@jupyter-widgets/controls",
      "_view_module_version": "1.5.0",
      "_view_name": "HBoxView",
      "box_style": "",
      "children": [
       "IPY_MODEL_024bbe4665f54d389553f8b51702c3b2",
       "IPY_MODEL_1b16a6a0486144908aa2c2dd552066b0",
       "IPY_MODEL_0f25da6fdc0a44e9bebe1348e7c41c75"
      ],
      "layout": "IPY_MODEL_125b16ebaf18430c8300054d37e8649f"
     }
    },
    "b7180b87cba3461986508c8fe3e58d77": {
     "model_module": "@jupyter-widgets/base",
     "model_module_version": "1.2.0",
     "model_name": "LayoutModel",
     "state": {
      "_model_module": "@jupyter-widgets/base",
      "_model_module_version": "1.2.0",
      "_model_name": "LayoutModel",
      "_view_count": null,
      "_view_module": "@jupyter-widgets/base",
      "_view_module_version": "1.2.0",
      "_view_name": "LayoutView",
      "align_content": null,
      "align_items": null,
      "align_self": null,
      "border": null,
      "bottom": null,
      "display": null,
      "flex": null,
      "flex_flow": null,
      "grid_area": null,
      "grid_auto_columns": null,
      "grid_auto_flow": null,
      "grid_auto_rows": null,
      "grid_column": null,
      "grid_gap": null,
      "grid_row": null,
      "grid_template_areas": null,
      "grid_template_columns": null,
      "grid_template_rows": null,
      "height": null,
      "justify_content": null,
      "justify_items": null,
      "left": null,
      "margin": null,
      "max_height": null,
      "max_width": null,
      "min_height": null,
      "min_width": null,
      "object_fit": null,
      "object_position": null,
      "order": null,
      "overflow": null,
      "overflow_x": null,
      "overflow_y": null,
      "padding": null,
      "right": null,
      "top": null,
      "visibility": null,
      "width": null
     }
    },
    "c6c1d76752b444bdafb1df89bc4c3d79": {
     "model_module": "@jupyter-widgets/controls",
     "model_module_version": "1.5.0",
     "model_name": "HTMLModel",
     "state": {
      "_dom_classes": [],
      "_model_module": "@jupyter-widgets/controls",
      "_model_module_version": "1.5.0",
      "_model_name": "HTMLModel",
      "_view_count": null,
      "_view_module": "@jupyter-widgets/controls",
      "_view_module_version": "1.5.0",
      "_view_name": "HTMLView",
      "description": "",
      "description_tooltip": null,
      "layout": "IPY_MODEL_0547e1f40b874002a7638b4d81b1a21d",
      "placeholder": "​",
      "style": "IPY_MODEL_e361c5bf83e64429bd8b0c5ced6fe5fa",
      "value": " 15/15 [00:01&lt;00:00, 14.93batch/s]"
     }
    },
    "dceb055480084ab084bbc52377486513": {
     "model_module": "@jupyter-widgets/controls",
     "model_module_version": "1.5.0",
     "model_name": "ProgressStyleModel",
     "state": {
      "_model_module": "@jupyter-widgets/controls",
      "_model_module_version": "1.5.0",
      "_model_name": "ProgressStyleModel",
      "_view_count": null,
      "_view_module": "@jupyter-widgets/base",
      "_view_module_version": "1.2.0",
      "_view_name": "StyleView",
      "bar_color": null,
      "description_width": ""
     }
    },
    "e361c5bf83e64429bd8b0c5ced6fe5fa": {
     "model_module": "@jupyter-widgets/controls",
     "model_module_version": "1.5.0",
     "model_name": "DescriptionStyleModel",
     "state": {
      "_model_module": "@jupyter-widgets/controls",
      "_model_module_version": "1.5.0",
      "_model_name": "DescriptionStyleModel",
      "_view_count": null,
      "_view_module": "@jupyter-widgets/base",
      "_view_module_version": "1.2.0",
      "_view_name": "StyleView",
      "description_width": ""
     }
    },
    "fc90c78191d041069f48bdf55d062bc4": {
     "model_module": "@jupyter-widgets/controls",
     "model_module_version": "1.5.0",
     "model_name": "FloatProgressModel",
     "state": {
      "_dom_classes": [],
      "_model_module": "@jupyter-widgets/controls",
      "_model_module_version": "1.5.0",
      "_model_name": "FloatProgressModel",
      "_view_count": null,
      "_view_module": "@jupyter-widgets/controls",
      "_view_module_version": "1.5.0",
      "_view_name": "ProgressView",
      "bar_style": "success",
      "description": "",
      "description_tooltip": null,
      "layout": "IPY_MODEL_1730904d02f244749eadb4c49374be3c",
      "max": 15,
      "min": 0,
      "orientation": "horizontal",
      "style": "IPY_MODEL_1ee99597943e495f930edfd8276bd769",
      "value": 15
     }
    }
   }
  }
 },
 "nbformat": 4,
 "nbformat_minor": 0
}
